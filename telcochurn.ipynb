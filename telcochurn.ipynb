{
 "cells": [
  {
   "cell_type": "code",
   "execution_count": 227,
   "metadata": {},
   "outputs": [],
   "source": [
    "import pandas as pd\n",
    "import xgboost as xgb\n",
    "from collections import Counter\n",
    "from sklearn.impute import SimpleImputer\n",
    "import warnings\n",
    "from sklearn.ensemble import RandomForestClassifier\n",
    "from sklearn.feature_selection import SelectKBest, chi2\n",
    "from sklearn.model_selection import train_test_split, cross_val_score, GridSearchCV\n",
    "import matplotlib.pyplot as plt\n",
    "import graphviz\n",
    "from sklearn.decomposition import PCA\n",
    "from sklearn.svm import SVC\n",
    "from sklearn.pipeline import Pipeline, make_pipeline, FeatureUnion\n",
    "from sklearn.linear_model import LogisticRegression\n",
    "from sklearn.base import BaseEstimator, TransformerMixin\n",
    "from sklearn.metrics import accuracy_score"
   ]
  },
  {
   "cell_type": "code",
   "execution_count": 195,
   "metadata": {},
   "outputs": [],
   "source": [
    "class Selector(BaseEstimator, TransformerMixin):\n",
    "    \n",
    "    \"\"\"\n",
    "    custom transformer that returns a column called col_name from data frame X as a Series\n",
    "    \"\"\"\n",
    "\n",
    "    def __init__(self, col_name):\n",
    "        self.col_name = col_name \n",
    "      \n",
    "    def fit(self, X, y = None):\n",
    "        return self \n",
    "    \n",
    "    def transform(self, X, y = None):\n",
    "        return X[self.col_name]\n",
    "    \n",
    "class ToFloat(BaseEstimator, TransformerMixin):\n",
    "    \n",
    "    \"\"\"\n",
    "    custom transformer that returns a column called col_name from data frame X as a Series\n",
    "    \"\"\"\n",
    "\n",
    "    def __init__(self):\n",
    "        pass\n",
    "      \n",
    "    def fit(self, X, y = None):\n",
    "        return self \n",
    "    \n",
    "    def transform(self, X, y = None):\n",
    "        return X.apply(lambda x: float(str(x)) if str(x).strip() else -1) \\\n",
    "                            .values.reshape(-1,1)\n",
    "        \n",
    "    \n",
    "class GetDummies(BaseEstimator, TransformerMixin):\n",
    "    \n",
    "    \"\"\"\n",
    "    introduce new binary variables via one-hot-encoding\n",
    "    \"\"\"\n",
    "\n",
    "    def __init__(self, cols_to_encode):\n",
    "        self.cols_to_encode = cols_to_encode \n",
    "      \n",
    "    def fit(self, X, y = None):\n",
    "        return self \n",
    "    \n",
    "    def transform(self, X, y = None):\n",
    "        return pd.get_dummies(X[self.cols_to_encode], columns=self.cols_to_encode)\n",
    "    \n",
    "    def get_feature_names(self):\n",
    "        return X.columns.tolist()"
   ]
  },
  {
   "cell_type": "code",
   "execution_count": 196,
   "metadata": {},
   "outputs": [],
   "source": [
    "data = pd.read_csv('data/WA_Fn-UseC_-Telco-Customer-Churn.csv', index_col='customerID')"
   ]
  },
  {
   "cell_type": "code",
   "execution_count": 197,
   "metadata": {},
   "outputs": [
    {
     "data": {
      "text/html": [
       "<div>\n",
       "<style scoped>\n",
       "    .dataframe tbody tr th:only-of-type {\n",
       "        vertical-align: middle;\n",
       "    }\n",
       "\n",
       "    .dataframe tbody tr th {\n",
       "        vertical-align: top;\n",
       "    }\n",
       "\n",
       "    .dataframe thead th {\n",
       "        text-align: right;\n",
       "    }\n",
       "</style>\n",
       "<table border=\"1\" class=\"dataframe\">\n",
       "  <thead>\n",
       "    <tr style=\"text-align: right;\">\n",
       "      <th></th>\n",
       "      <th>gender</th>\n",
       "      <th>SeniorCitizen</th>\n",
       "      <th>Partner</th>\n",
       "      <th>Dependents</th>\n",
       "      <th>tenure</th>\n",
       "      <th>PhoneService</th>\n",
       "      <th>MultipleLines</th>\n",
       "      <th>InternetService</th>\n",
       "      <th>OnlineSecurity</th>\n",
       "      <th>OnlineBackup</th>\n",
       "      <th>DeviceProtection</th>\n",
       "      <th>TechSupport</th>\n",
       "      <th>StreamingTV</th>\n",
       "      <th>StreamingMovies</th>\n",
       "      <th>Contract</th>\n",
       "      <th>PaperlessBilling</th>\n",
       "      <th>PaymentMethod</th>\n",
       "      <th>MonthlyCharges</th>\n",
       "      <th>TotalCharges</th>\n",
       "      <th>Churn</th>\n",
       "    </tr>\n",
       "    <tr>\n",
       "      <th>customerID</th>\n",
       "      <th></th>\n",
       "      <th></th>\n",
       "      <th></th>\n",
       "      <th></th>\n",
       "      <th></th>\n",
       "      <th></th>\n",
       "      <th></th>\n",
       "      <th></th>\n",
       "      <th></th>\n",
       "      <th></th>\n",
       "      <th></th>\n",
       "      <th></th>\n",
       "      <th></th>\n",
       "      <th></th>\n",
       "      <th></th>\n",
       "      <th></th>\n",
       "      <th></th>\n",
       "      <th></th>\n",
       "      <th></th>\n",
       "      <th></th>\n",
       "    </tr>\n",
       "  </thead>\n",
       "  <tbody>\n",
       "    <tr>\n",
       "      <th>7590-VHVEG</th>\n",
       "      <td>Female</td>\n",
       "      <td>0</td>\n",
       "      <td>Yes</td>\n",
       "      <td>No</td>\n",
       "      <td>1</td>\n",
       "      <td>No</td>\n",
       "      <td>No phone service</td>\n",
       "      <td>DSL</td>\n",
       "      <td>No</td>\n",
       "      <td>Yes</td>\n",
       "      <td>No</td>\n",
       "      <td>No</td>\n",
       "      <td>No</td>\n",
       "      <td>No</td>\n",
       "      <td>Month-to-month</td>\n",
       "      <td>Yes</td>\n",
       "      <td>Electronic check</td>\n",
       "      <td>29.85</td>\n",
       "      <td>29.85</td>\n",
       "      <td>No</td>\n",
       "    </tr>\n",
       "    <tr>\n",
       "      <th>5575-GNVDE</th>\n",
       "      <td>Male</td>\n",
       "      <td>0</td>\n",
       "      <td>No</td>\n",
       "      <td>No</td>\n",
       "      <td>34</td>\n",
       "      <td>Yes</td>\n",
       "      <td>No</td>\n",
       "      <td>DSL</td>\n",
       "      <td>Yes</td>\n",
       "      <td>No</td>\n",
       "      <td>Yes</td>\n",
       "      <td>No</td>\n",
       "      <td>No</td>\n",
       "      <td>No</td>\n",
       "      <td>One year</td>\n",
       "      <td>No</td>\n",
       "      <td>Mailed check</td>\n",
       "      <td>56.95</td>\n",
       "      <td>1889.5</td>\n",
       "      <td>No</td>\n",
       "    </tr>\n",
       "    <tr>\n",
       "      <th>3668-QPYBK</th>\n",
       "      <td>Male</td>\n",
       "      <td>0</td>\n",
       "      <td>No</td>\n",
       "      <td>No</td>\n",
       "      <td>2</td>\n",
       "      <td>Yes</td>\n",
       "      <td>No</td>\n",
       "      <td>DSL</td>\n",
       "      <td>Yes</td>\n",
       "      <td>Yes</td>\n",
       "      <td>No</td>\n",
       "      <td>No</td>\n",
       "      <td>No</td>\n",
       "      <td>No</td>\n",
       "      <td>Month-to-month</td>\n",
       "      <td>Yes</td>\n",
       "      <td>Mailed check</td>\n",
       "      <td>53.85</td>\n",
       "      <td>108.15</td>\n",
       "      <td>Yes</td>\n",
       "    </tr>\n",
       "  </tbody>\n",
       "</table>\n",
       "</div>"
      ],
      "text/plain": [
       "            gender  SeniorCitizen Partner Dependents  tenure PhoneService  \\\n",
       "customerID                                                                  \n",
       "7590-VHVEG  Female              0     Yes         No       1           No   \n",
       "5575-GNVDE    Male              0      No         No      34          Yes   \n",
       "3668-QPYBK    Male              0      No         No       2          Yes   \n",
       "\n",
       "               MultipleLines InternetService OnlineSecurity OnlineBackup  \\\n",
       "customerID                                                                 \n",
       "7590-VHVEG  No phone service             DSL             No          Yes   \n",
       "5575-GNVDE                No             DSL            Yes           No   \n",
       "3668-QPYBK                No             DSL            Yes          Yes   \n",
       "\n",
       "           DeviceProtection TechSupport StreamingTV StreamingMovies  \\\n",
       "customerID                                                            \n",
       "7590-VHVEG               No          No          No              No   \n",
       "5575-GNVDE              Yes          No          No              No   \n",
       "3668-QPYBK               No          No          No              No   \n",
       "\n",
       "                  Contract PaperlessBilling     PaymentMethod  MonthlyCharges  \\\n",
       "customerID                                                                      \n",
       "7590-VHVEG  Month-to-month              Yes  Electronic check           29.85   \n",
       "5575-GNVDE        One year               No      Mailed check           56.95   \n",
       "3668-QPYBK  Month-to-month              Yes      Mailed check           53.85   \n",
       "\n",
       "           TotalCharges Churn  \n",
       "customerID                     \n",
       "7590-VHVEG        29.85    No  \n",
       "5575-GNVDE       1889.5    No  \n",
       "3668-QPYBK       108.15   Yes  "
      ]
     },
     "execution_count": 197,
     "metadata": {},
     "output_type": "execute_result"
    }
   ],
   "source": [
    "data.head(3)"
   ]
  },
  {
   "cell_type": "code",
   "execution_count": 198,
   "metadata": {},
   "outputs": [],
   "source": [
    "numerical_features = ['tenure', 'MonthlyCharges', 'TotalCharges']\n",
    "target = ['Churn']\n",
    "cat_features = ['gender', 'Partner', 'Dependents', 'PhoneService', \n",
    "                        'MultipleLines', 'InternetService', 'OnlineSecurity', 'OnlineBackup',\n",
    "                       'DeviceProtection', 'TechSupport', 'StreamingTV', 'StreamingMovies',\n",
    "                       'Contract', 'PaperlessBilling', 'PaymentMethod']\n",
    "cat_features_processed = ['SeniorCitizen']"
   ]
  },
  {
   "cell_type": "code",
   "execution_count": 199,
   "metadata": {},
   "outputs": [],
   "source": [
    "preprocessing = FeatureUnion([('dummies', GetDummies(cols_to_encode=cat_features)),\n",
    "                              ('fixed_numerical', Pipeline([('select', Selector('TotalCharges')),\n",
    "                                                            ('to_float', ToFloat()),\n",
    "                                                            ('impute', SimpleImputer(missing_values=-1, strategy='mean'))])),\n",
    "                              ('original_numerical', Selector(['tenure', 'MonthlyCharges', 'SeniorCitizen']))\n",
    "                             ])"
   ]
  },
  {
   "cell_type": "code",
   "execution_count": 208,
   "metadata": {},
   "outputs": [],
   "source": [
    "X = preprocessing.fit_transform(data)"
   ]
  },
  {
   "cell_type": "code",
   "execution_count": 216,
   "metadata": {},
   "outputs": [],
   "source": [
    "y = data[target]['Churn'].apply(lambda x: 1 if x == \"Yes\" else 0 if x == 'No' else None).values"
   ]
  },
  {
   "cell_type": "markdown",
   "metadata": {},
   "source": [
    "### Feature Selection\n",
    "We are going to pick the best original features by applying a statistical test. We will also apply a dimensionality reduction method to be able to make use of the reduced feautes."
   ]
  },
  {
   "cell_type": "code",
   "execution_count": 217,
   "metadata": {},
   "outputs": [],
   "source": [
    "# best k features based on univariate statistical tests\n",
    "best_original_features = SelectKBest(score_func=chi2, k=4)\n",
    "# reduce dimensionality to n_components components that will make the new features\n",
    "pca = PCA(n_components=4)\n",
    "# combine the above old and new features into a feature union\n",
    "combined_features = FeatureUnion([(\"pca_components\", pca), \n",
    "                                  (\"best_original_feats\", best_original_features)])"
   ]
  },
  {
   "cell_type": "markdown",
   "metadata": {},
   "source": [
    "### Classifier\n",
    "We use the Random Forests classifier for starters."
   ]
  },
  {
   "cell_type": "code",
   "execution_count": 218,
   "metadata": {},
   "outputs": [],
   "source": [
    "classifier = RandomForestClassifier(n_estimators=100)"
   ]
  },
  {
   "cell_type": "markdown",
   "metadata": {},
   "source": [
    "### Pipeline\n",
    "Now we put together a pipeline to do grid search."
   ]
  },
  {
   "cell_type": "code",
   "execution_count": 219,
   "metadata": {},
   "outputs": [],
   "source": [
    "pipeline = Pipeline([('features', combined_features), \n",
    "                     ('classifier', classifier)])"
   ]
  },
  {
   "cell_type": "markdown",
   "metadata": {},
   "source": [
    "### Parameter Grid for grid search"
   ]
  },
  {
   "cell_type": "code",
   "execution_count": 220,
   "metadata": {},
   "outputs": [],
   "source": [
    "param_grid = dict(features__pca_components__n_components=[4,6,8,10],\n",
    "                  features__best_original_feats__k=[2,4,6,8],\n",
    "                  classifier__n_estimators=[100,200])"
   ]
  },
  {
   "cell_type": "markdown",
   "metadata": {},
   "source": [
    "### Grid Search"
   ]
  },
  {
   "cell_type": "code",
   "execution_count": 222,
   "metadata": {},
   "outputs": [],
   "source": [
    "grid_search = GridSearchCV(pipeline, param_grid=param_grid, cv=5, verbose=5)"
   ]
  },
  {
   "cell_type": "code",
   "execution_count": 223,
   "metadata": {},
   "outputs": [
    {
     "name": "stdout",
     "output_type": "stream",
     "text": [
      "Fitting 5 folds for each of 32 candidates, totalling 160 fits\n",
      "[CV] classifier__n_estimators=100, features__best_original_feats__k=2, features__pca_components__n_components=4 \n"
     ]
    },
    {
     "name": "stderr",
     "output_type": "stream",
     "text": [
      "[Parallel(n_jobs=1)]: Using backend SequentialBackend with 1 concurrent workers.\n"
     ]
    },
    {
     "name": "stdout",
     "output_type": "stream",
     "text": [
      "[CV]  classifier__n_estimators=100, features__best_original_feats__k=2, features__pca_components__n_components=4, score=0.7608232789212207, total=   0.8s\n",
      "[CV] classifier__n_estimators=100, features__best_original_feats__k=2, features__pca_components__n_components=4 \n"
     ]
    },
    {
     "name": "stderr",
     "output_type": "stream",
     "text": [
      "[Parallel(n_jobs=1)]: Done   1 out of   1 | elapsed:    0.9s remaining:    0.0s\n"
     ]
    },
    {
     "name": "stdout",
     "output_type": "stream",
     "text": [
      "[CV]  classifier__n_estimators=100, features__best_original_feats__k=2, features__pca_components__n_components=4, score=0.7806955287437899, total=   0.8s\n",
      "[CV] classifier__n_estimators=100, features__best_original_feats__k=2, features__pca_components__n_components=4 \n"
     ]
    },
    {
     "name": "stderr",
     "output_type": "stream",
     "text": [
      "[Parallel(n_jobs=1)]: Done   2 out of   2 | elapsed:    1.7s remaining:    0.0s\n"
     ]
    },
    {
     "name": "stdout",
     "output_type": "stream",
     "text": [
      "[CV]  classifier__n_estimators=100, features__best_original_feats__k=2, features__pca_components__n_components=4, score=0.7615330021291696, total=   0.8s\n",
      "[CV] classifier__n_estimators=100, features__best_original_feats__k=2, features__pca_components__n_components=4 \n"
     ]
    },
    {
     "name": "stderr",
     "output_type": "stream",
     "text": [
      "[Parallel(n_jobs=1)]: Done   3 out of   3 | elapsed:    2.6s remaining:    0.0s\n"
     ]
    },
    {
     "name": "stdout",
     "output_type": "stream",
     "text": [
      "[CV]  classifier__n_estimators=100, features__best_original_feats__k=2, features__pca_components__n_components=4, score=0.7842441447835344, total=   0.8s\n",
      "[CV] classifier__n_estimators=100, features__best_original_feats__k=2, features__pca_components__n_components=4 \n"
     ]
    },
    {
     "name": "stderr",
     "output_type": "stream",
     "text": [
      "[Parallel(n_jobs=1)]: Done   4 out of   4 | elapsed:    3.4s remaining:    0.0s\n"
     ]
    },
    {
     "name": "stdout",
     "output_type": "stream",
     "text": [
      "[CV]  classifier__n_estimators=100, features__best_original_feats__k=2, features__pca_components__n_components=4, score=0.7782515991471215, total=   0.8s\n",
      "[CV] classifier__n_estimators=100, features__best_original_feats__k=2, features__pca_components__n_components=6 \n",
      "[CV]  classifier__n_estimators=100, features__best_original_feats__k=2, features__pca_components__n_components=6, score=0.7970191625266146, total=   0.8s\n",
      "[CV] classifier__n_estimators=100, features__best_original_feats__k=2, features__pca_components__n_components=6 \n",
      "[CV]  classifier__n_estimators=100, features__best_original_feats__k=2, features__pca_components__n_components=6, score=0.7984386089425124, total=   0.8s\n",
      "[CV] classifier__n_estimators=100, features__best_original_feats__k=2, features__pca_components__n_components=6 \n",
      "[CV]  classifier__n_estimators=100, features__best_original_feats__k=2, features__pca_components__n_components=6, score=0.772888573456352, total=   0.8s\n",
      "[CV] classifier__n_estimators=100, features__best_original_feats__k=2, features__pca_components__n_components=6 \n",
      "[CV]  classifier__n_estimators=100, features__best_original_feats__k=2, features__pca_components__n_components=6, score=0.7892122072391767, total=   0.8s\n",
      "[CV] classifier__n_estimators=100, features__best_original_feats__k=2, features__pca_components__n_components=6 \n",
      "[CV]  classifier__n_estimators=100, features__best_original_feats__k=2, features__pca_components__n_components=6, score=0.7839374555792467, total=   0.8s\n",
      "[CV] classifier__n_estimators=100, features__best_original_feats__k=2, features__pca_components__n_components=8 \n",
      "[CV]  classifier__n_estimators=100, features__best_original_feats__k=2, features__pca_components__n_components=8, score=0.7955997161107168, total=   1.1s\n",
      "[CV] classifier__n_estimators=100, features__best_original_feats__k=2, features__pca_components__n_components=8 \n",
      "[CV]  classifier__n_estimators=100, features__best_original_feats__k=2, features__pca_components__n_components=8, score=0.794180269694819, total=   1.2s\n",
      "[CV] classifier__n_estimators=100, features__best_original_feats__k=2, features__pca_components__n_components=8 \n",
      "[CV]  classifier__n_estimators=100, features__best_original_feats__k=2, features__pca_components__n_components=8, score=0.7743080198722498, total=   1.1s\n",
      "[CV] classifier__n_estimators=100, features__best_original_feats__k=2, features__pca_components__n_components=8 \n",
      "[CV]  classifier__n_estimators=100, features__best_original_feats__k=2, features__pca_components__n_components=8, score=0.794180269694819, total=   1.1s\n",
      "[CV] classifier__n_estimators=100, features__best_original_feats__k=2, features__pca_components__n_components=8 \n",
      "[CV]  classifier__n_estimators=100, features__best_original_feats__k=2, features__pca_components__n_components=8, score=0.798862828713575, total=   1.1s\n",
      "[CV] classifier__n_estimators=100, features__best_original_feats__k=2, features__pca_components__n_components=10 \n",
      "[CV]  classifier__n_estimators=100, features__best_original_feats__k=2, features__pca_components__n_components=10, score=0.7970191625266146, total=   1.3s\n",
      "[CV] classifier__n_estimators=100, features__best_original_feats__k=2, features__pca_components__n_components=10 \n",
      "[CV]  classifier__n_estimators=100, features__best_original_feats__k=2, features__pca_components__n_components=10, score=0.7885024840312278, total=   1.1s\n",
      "[CV] classifier__n_estimators=100, features__best_original_feats__k=2, features__pca_components__n_components=10 \n",
      "[CV]  classifier__n_estimators=100, features__best_original_feats__k=2, features__pca_components__n_components=10, score=0.7665010645848119, total=   1.1s\n",
      "[CV] classifier__n_estimators=100, features__best_original_feats__k=2, features__pca_components__n_components=10 \n",
      "[CV]  classifier__n_estimators=100, features__best_original_feats__k=2, features__pca_components__n_components=10, score=0.808374733853797, total=   1.1s\n",
      "[CV] classifier__n_estimators=100, features__best_original_feats__k=2, features__pca_components__n_components=10 \n",
      "[CV]  classifier__n_estimators=100, features__best_original_feats__k=2, features__pca_components__n_components=10, score=0.7924662402274343, total=   1.1s\n",
      "[CV] classifier__n_estimators=100, features__best_original_feats__k=4, features__pca_components__n_components=4 \n",
      "[CV]  classifier__n_estimators=100, features__best_original_feats__k=4, features__pca_components__n_components=4, score=0.772888573456352, total=   0.8s\n",
      "[CV] classifier__n_estimators=100, features__best_original_feats__k=4, features__pca_components__n_components=4 \n",
      "[CV]  classifier__n_estimators=100, features__best_original_feats__k=4, features__pca_components__n_components=4, score=0.7885024840312278, total=   0.7s\n",
      "[CV] classifier__n_estimators=100, features__best_original_feats__k=4, features__pca_components__n_components=4 \n",
      "[CV]  classifier__n_estimators=100, features__best_original_feats__k=4, features__pca_components__n_components=4, score=0.7735982966643009, total=   0.7s\n",
      "[CV] classifier__n_estimators=100, features__best_original_feats__k=4, features__pca_components__n_components=4 \n",
      "[CV]  classifier__n_estimators=100, features__best_original_feats__k=4, features__pca_components__n_components=4, score=0.7821149751596878, total=   0.7s\n",
      "[CV] classifier__n_estimators=100, features__best_original_feats__k=4, features__pca_components__n_components=4 \n",
      "[CV]  classifier__n_estimators=100, features__best_original_feats__k=4, features__pca_components__n_components=4, score=0.7746979388770433, total=   0.8s\n",
      "[CV] classifier__n_estimators=100, features__best_original_feats__k=4, features__pca_components__n_components=6 \n",
      "[CV]  classifier__n_estimators=100, features__best_original_feats__k=4, features__pca_components__n_components=6, score=0.7984386089425124, total=   0.9s\n",
      "[CV] classifier__n_estimators=100, features__best_original_feats__k=4, features__pca_components__n_components=6 \n",
      "[CV]  classifier__n_estimators=100, features__best_original_feats__k=4, features__pca_components__n_components=6, score=0.7934705464868701, total=   0.9s\n",
      "[CV] classifier__n_estimators=100, features__best_original_feats__k=4, features__pca_components__n_components=6 \n",
      "[CV]  classifier__n_estimators=100, features__best_original_feats__k=4, features__pca_components__n_components=6, score=0.7814052519517388, total=   0.9s\n",
      "[CV] classifier__n_estimators=100, features__best_original_feats__k=4, features__pca_components__n_components=6 \n",
      "[CV]  classifier__n_estimators=100, features__best_original_feats__k=4, features__pca_components__n_components=6, score=0.7899219304471257, total=   0.9s\n",
      "[CV] classifier__n_estimators=100, features__best_original_feats__k=4, features__pca_components__n_components=6 \n",
      "[CV]  classifier__n_estimators=100, features__best_original_feats__k=4, features__pca_components__n_components=6, score=0.7896233120113717, total=   0.9s\n",
      "[CV] classifier__n_estimators=100, features__best_original_feats__k=4, features__pca_components__n_components=8 \n",
      "[CV]  classifier__n_estimators=100, features__best_original_feats__k=4, features__pca_components__n_components=8, score=0.794180269694819, total=   1.0s\n",
      "[CV] classifier__n_estimators=100, features__best_original_feats__k=4, features__pca_components__n_components=8 \n",
      "[CV]  classifier__n_estimators=100, features__best_original_feats__k=4, features__pca_components__n_components=8, score=0.7927608232789212, total=   1.0s\n",
      "[CV] classifier__n_estimators=100, features__best_original_feats__k=4, features__pca_components__n_components=8 \n",
      "[CV]  classifier__n_estimators=100, features__best_original_feats__k=4, features__pca_components__n_components=8, score=0.7665010645848119, total=   1.0s\n",
      "[CV] classifier__n_estimators=100, features__best_original_feats__k=4, features__pca_components__n_components=8 \n",
      "[CV]  classifier__n_estimators=100, features__best_original_feats__k=4, features__pca_components__n_components=8, score=0.8041163946061036, total=   1.0s\n",
      "[CV] classifier__n_estimators=100, features__best_original_feats__k=4, features__pca_components__n_components=8 \n",
      "[CV]  classifier__n_estimators=100, features__best_original_feats__k=4, features__pca_components__n_components=8, score=0.7931769722814499, total=   1.0s\n",
      "[CV] classifier__n_estimators=100, features__best_original_feats__k=4, features__pca_components__n_components=10 \n",
      "[CV]  classifier__n_estimators=100, features__best_original_feats__k=4, features__pca_components__n_components=10, score=0.7963094393186657, total=   1.0s\n",
      "[CV] classifier__n_estimators=100, features__best_original_feats__k=4, features__pca_components__n_components=10 \n",
      "[CV]  classifier__n_estimators=100, features__best_original_feats__k=4, features__pca_components__n_components=10, score=0.7955997161107168, total=   1.0s\n",
      "[CV] classifier__n_estimators=100, features__best_original_feats__k=4, features__pca_components__n_components=10 \n",
      "[CV]  classifier__n_estimators=100, features__best_original_feats__k=4, features__pca_components__n_components=10, score=0.7629524485450674, total=   1.0s\n",
      "[CV] classifier__n_estimators=100, features__best_original_feats__k=4, features__pca_components__n_components=10 \n",
      "[CV]  classifier__n_estimators=100, features__best_original_feats__k=4, features__pca_components__n_components=10, score=0.7955997161107168, total=   1.0s\n",
      "[CV] classifier__n_estimators=100, features__best_original_feats__k=4, features__pca_components__n_components=10 \n",
      "[CV]  classifier__n_estimators=100, features__best_original_feats__k=4, features__pca_components__n_components=10, score=0.8002842928216063, total=   1.0s\n",
      "[CV] classifier__n_estimators=100, features__best_original_feats__k=6, features__pca_components__n_components=4 \n",
      "[CV]  classifier__n_estimators=100, features__best_original_feats__k=6, features__pca_components__n_components=4, score=0.7849538679914834, total=   0.8s\n",
      "[CV] classifier__n_estimators=100, features__best_original_feats__k=6, features__pca_components__n_components=4 \n",
      "[CV]  classifier__n_estimators=100, features__best_original_feats__k=6, features__pca_components__n_components=4, score=0.7963094393186657, total=   0.8s\n",
      "[CV] classifier__n_estimators=100, features__best_original_feats__k=6, features__pca_components__n_components=4 \n",
      "[CV]  classifier__n_estimators=100, features__best_original_feats__k=6, features__pca_components__n_components=4, score=0.7700496806245565, total=   0.8s\n",
      "[CV] classifier__n_estimators=100, features__best_original_feats__k=6, features__pca_components__n_components=4 \n",
      "[CV]  classifier__n_estimators=100, features__best_original_feats__k=6, features__pca_components__n_components=4, score=0.7863733144073811, total=   0.8s\n",
      "[CV] classifier__n_estimators=100, features__best_original_feats__k=6, features__pca_components__n_components=4 \n",
      "[CV]  classifier__n_estimators=100, features__best_original_feats__k=6, features__pca_components__n_components=4, score=0.7796730632551528, total=   0.8s\n",
      "[CV] classifier__n_estimators=100, features__best_original_feats__k=6, features__pca_components__n_components=6 \n",
      "[CV]  classifier__n_estimators=100, features__best_original_feats__k=6, features__pca_components__n_components=6, score=0.7913413768630234, total=   0.8s\n",
      "[CV] classifier__n_estimators=100, features__best_original_feats__k=6, features__pca_components__n_components=6 \n",
      "[CV]  classifier__n_estimators=100, features__best_original_feats__k=6, features__pca_components__n_components=6, score=0.794889992902768, total=   0.8s\n",
      "[CV] classifier__n_estimators=100, features__best_original_feats__k=6, features__pca_components__n_components=6 \n",
      "[CV]  classifier__n_estimators=100, features__best_original_feats__k=6, features__pca_components__n_components=6, score=0.7778566359119943, total=   0.8s\n",
      "[CV] classifier__n_estimators=100, features__best_original_feats__k=6, features__pca_components__n_components=6 \n",
      "[CV]  classifier__n_estimators=100, features__best_original_feats__k=6, features__pca_components__n_components=6, score=0.7970191625266146, total=   0.8s\n",
      "[CV] classifier__n_estimators=100, features__best_original_feats__k=6, features__pca_components__n_components=6 \n",
      "[CV]  classifier__n_estimators=100, features__best_original_feats__k=6, features__pca_components__n_components=6, score=0.7938877043354655, total=   0.8s\n",
      "[CV] classifier__n_estimators=100, features__best_original_feats__k=6, features__pca_components__n_components=8 \n",
      "[CV]  classifier__n_estimators=100, features__best_original_feats__k=6, features__pca_components__n_components=8, score=0.7934705464868701, total=   0.9s\n",
      "[CV] classifier__n_estimators=100, features__best_original_feats__k=6, features__pca_components__n_components=8 \n",
      "[CV]  classifier__n_estimators=100, features__best_original_feats__k=6, features__pca_components__n_components=8, score=0.801277501774308, total=   1.0s\n",
      "[CV] classifier__n_estimators=100, features__best_original_feats__k=6, features__pca_components__n_components=8 \n",
      "[CV]  classifier__n_estimators=100, features__best_original_feats__k=6, features__pca_components__n_components=8, score=0.7785663591199432, total=   1.0s\n",
      "[CV] classifier__n_estimators=100, features__best_original_feats__k=6, features__pca_components__n_components=8 \n",
      "[CV]  classifier__n_estimators=100, features__best_original_feats__k=6, features__pca_components__n_components=8, score=0.7955997161107168, total=   1.0s\n",
      "[CV] classifier__n_estimators=100, features__best_original_feats__k=6, features__pca_components__n_components=8 \n",
      "[CV]  classifier__n_estimators=100, features__best_original_feats__k=6, features__pca_components__n_components=8, score=0.7889125799573561, total=   1.0s\n",
      "[CV] classifier__n_estimators=100, features__best_original_feats__k=6, features__pca_components__n_components=10 \n",
      "[CV]  classifier__n_estimators=100, features__best_original_feats__k=6, features__pca_components__n_components=10, score=0.7906316536550745, total=   1.2s\n",
      "[CV] classifier__n_estimators=100, features__best_original_feats__k=6, features__pca_components__n_components=10 \n",
      "[CV]  classifier__n_estimators=100, features__best_original_feats__k=6, features__pca_components__n_components=10, score=0.794180269694819, total=   1.1s\n",
      "[CV] classifier__n_estimators=100, features__best_original_feats__k=6, features__pca_components__n_components=10 \n",
      "[CV]  classifier__n_estimators=100, features__best_original_feats__k=6, features__pca_components__n_components=10, score=0.7650816181689141, total=   1.1s\n",
      "[CV] classifier__n_estimators=100, features__best_original_feats__k=6, features__pca_components__n_components=10 \n",
      "[CV]  classifier__n_estimators=100, features__best_original_feats__k=6, features__pca_components__n_components=10, score=0.8026969481902059, total=   1.1s\n",
      "[CV] classifier__n_estimators=100, features__best_original_feats__k=6, features__pca_components__n_components=10 \n",
      "[CV]  classifier__n_estimators=100, features__best_original_feats__k=6, features__pca_components__n_components=10, score=0.7882018479033405, total=   1.1s\n",
      "[CV] classifier__n_estimators=100, features__best_original_feats__k=8, features__pca_components__n_components=4 \n",
      "[CV]  classifier__n_estimators=100, features__best_original_feats__k=8, features__pca_components__n_components=4, score=0.7835344215755855, total=   0.7s\n",
      "[CV] classifier__n_estimators=100, features__best_original_feats__k=8, features__pca_components__n_components=4 \n",
      "[CV]  classifier__n_estimators=100, features__best_original_feats__k=8, features__pca_components__n_components=4, score=0.8034066713981547, total=   0.7s\n",
      "[CV] classifier__n_estimators=100, features__best_original_feats__k=8, features__pca_components__n_components=4 \n",
      "[CV]  classifier__n_estimators=100, features__best_original_feats__k=8, features__pca_components__n_components=4, score=0.7672107877927609, total=   0.7s\n",
      "[CV] classifier__n_estimators=100, features__best_original_feats__k=8, features__pca_components__n_components=4 \n",
      "[CV]  classifier__n_estimators=100, features__best_original_feats__k=8, features__pca_components__n_components=4, score=0.78708303761533, total=   0.7s\n",
      "[CV] classifier__n_estimators=100, features__best_original_feats__k=8, features__pca_components__n_components=4 \n",
      "[CV]  classifier__n_estimators=100, features__best_original_feats__k=8, features__pca_components__n_components=4, score=0.7818052594171997, total=   0.7s\n",
      "[CV] classifier__n_estimators=100, features__best_original_feats__k=8, features__pca_components__n_components=6 \n",
      "[CV]  classifier__n_estimators=100, features__best_original_feats__k=8, features__pca_components__n_components=6, score=0.7970191625266146, total=   0.7s\n",
      "[CV] classifier__n_estimators=100, features__best_original_feats__k=8, features__pca_components__n_components=6 \n",
      "[CV]  classifier__n_estimators=100, features__best_original_feats__k=8, features__pca_components__n_components=6, score=0.7970191625266146, total=   0.7s\n",
      "[CV] classifier__n_estimators=100, features__best_original_feats__k=8, features__pca_components__n_components=6 \n",
      "[CV]  classifier__n_estimators=100, features__best_original_feats__k=8, features__pca_components__n_components=6, score=0.7764371894960965, total=   0.7s\n",
      "[CV] classifier__n_estimators=100, features__best_original_feats__k=8, features__pca_components__n_components=6 \n",
      "[CV]  classifier__n_estimators=100, features__best_original_feats__k=8, features__pca_components__n_components=6, score=0.7913413768630234, total=   0.7s\n",
      "[CV] classifier__n_estimators=100, features__best_original_feats__k=8, features__pca_components__n_components=6 \n",
      "[CV]  classifier__n_estimators=100, features__best_original_feats__k=8, features__pca_components__n_components=6, score=0.7924662402274343, total=   0.7s\n",
      "[CV] classifier__n_estimators=100, features__best_original_feats__k=8, features__pca_components__n_components=8 \n",
      "[CV]  classifier__n_estimators=100, features__best_original_feats__k=8, features__pca_components__n_components=8, score=0.7984386089425124, total=   1.0s\n",
      "[CV] classifier__n_estimators=100, features__best_original_feats__k=8, features__pca_components__n_components=8 \n",
      "[CV]  classifier__n_estimators=100, features__best_original_feats__k=8, features__pca_components__n_components=8, score=0.7955997161107168, total=   1.0s\n",
      "[CV] classifier__n_estimators=100, features__best_original_feats__k=8, features__pca_components__n_components=8 \n",
      "[CV]  classifier__n_estimators=100, features__best_original_feats__k=8, features__pca_components__n_components=8, score=0.7693399574166075, total=   1.0s\n",
      "[CV] classifier__n_estimators=100, features__best_original_feats__k=8, features__pca_components__n_components=8 \n",
      "[CV]  classifier__n_estimators=100, features__best_original_feats__k=8, features__pca_components__n_components=8, score=0.8055358410220014, total=   1.0s\n",
      "[CV] classifier__n_estimators=100, features__best_original_feats__k=8, features__pca_components__n_components=8 \n",
      "[CV]  classifier__n_estimators=100, features__best_original_feats__k=8, features__pca_components__n_components=8, score=0.8024164889836531, total=   1.0s\n",
      "[CV] classifier__n_estimators=100, features__best_original_feats__k=8, features__pca_components__n_components=10 \n",
      "[CV]  classifier__n_estimators=100, features__best_original_feats__k=8, features__pca_components__n_components=10, score=0.8041163946061036, total=   1.2s\n",
      "[CV] classifier__n_estimators=100, features__best_original_feats__k=8, features__pca_components__n_components=10 \n",
      "[CV]  classifier__n_estimators=100, features__best_original_feats__k=8, features__pca_components__n_components=10, score=0.7998580553584103, total=   1.1s\n",
      "[CV] classifier__n_estimators=100, features__best_original_feats__k=8, features__pca_components__n_components=10 \n",
      "[CV]  classifier__n_estimators=100, features__best_original_feats__k=8, features__pca_components__n_components=10, score=0.7693399574166075, total=   1.1s\n",
      "[CV] classifier__n_estimators=100, features__best_original_feats__k=8, features__pca_components__n_components=10 \n",
      "[CV]  classifier__n_estimators=100, features__best_original_feats__k=8, features__pca_components__n_components=10, score=0.8090844570617459, total=   1.0s\n",
      "[CV] classifier__n_estimators=100, features__best_original_feats__k=8, features__pca_components__n_components=10 \n",
      "[CV]  classifier__n_estimators=100, features__best_original_feats__k=8, features__pca_components__n_components=10, score=0.7896233120113717, total=   1.0s\n",
      "[CV] classifier__n_estimators=200, features__best_original_feats__k=2, features__pca_components__n_components=4 \n",
      "[CV]  classifier__n_estimators=200, features__best_original_feats__k=2, features__pca_components__n_components=4, score=0.7608232789212207, total=   1.5s\n",
      "[CV] classifier__n_estimators=200, features__best_original_feats__k=2, features__pca_components__n_components=4 \n",
      "[CV]  classifier__n_estimators=200, features__best_original_feats__k=2, features__pca_components__n_components=4, score=0.7835344215755855, total=   1.5s\n",
      "[CV] classifier__n_estimators=200, features__best_original_feats__k=2, features__pca_components__n_components=4 \n",
      "[CV]  classifier__n_estimators=200, features__best_original_feats__k=2, features__pca_components__n_components=4, score=0.7679205110007097, total=   1.5s\n",
      "[CV] classifier__n_estimators=200, features__best_original_feats__k=2, features__pca_components__n_components=4 \n",
      "[CV]  classifier__n_estimators=200, features__best_original_feats__k=2, features__pca_components__n_components=4, score=0.7799858055358411, total=   1.5s\n",
      "[CV] classifier__n_estimators=200, features__best_original_feats__k=2, features__pca_components__n_components=4 \n",
      "[CV]  classifier__n_estimators=200, features__best_original_feats__k=2, features__pca_components__n_components=4, score=0.7739872068230277, total=   1.5s\n",
      "[CV] classifier__n_estimators=200, features__best_original_feats__k=2, features__pca_components__n_components=6 \n",
      "[CV]  classifier__n_estimators=200, features__best_original_feats__k=2, features__pca_components__n_components=6, score=0.7991483321504613, total=   1.5s\n",
      "[CV] classifier__n_estimators=200, features__best_original_feats__k=2, features__pca_components__n_components=6 \n",
      "[CV]  classifier__n_estimators=200, features__best_original_feats__k=2, features__pca_components__n_components=6, score=0.8005677785663591, total=   1.5s\n",
      "[CV] classifier__n_estimators=200, features__best_original_feats__k=2, features__pca_components__n_components=6 \n",
      "[CV]  classifier__n_estimators=200, features__best_original_feats__k=2, features__pca_components__n_components=6, score=0.7785663591199432, total=   1.5s\n",
      "[CV] classifier__n_estimators=200, features__best_original_feats__k=2, features__pca_components__n_components=6 \n",
      "[CV]  classifier__n_estimators=200, features__best_original_feats__k=2, features__pca_components__n_components=6, score=0.7927608232789212, total=   1.5s\n",
      "[CV] classifier__n_estimators=200, features__best_original_feats__k=2, features__pca_components__n_components=6 \n",
      "[CV]  classifier__n_estimators=200, features__best_original_feats__k=2, features__pca_components__n_components=6, score=0.7910447761194029, total=   1.5s\n",
      "[CV] classifier__n_estimators=200, features__best_original_feats__k=2, features__pca_components__n_components=8 \n",
      "[CV]  classifier__n_estimators=200, features__best_original_feats__k=2, features__pca_components__n_components=8, score=0.7934705464868701, total=   2.1s\n",
      "[CV] classifier__n_estimators=200, features__best_original_feats__k=2, features__pca_components__n_components=8 \n",
      "[CV]  classifier__n_estimators=200, features__best_original_feats__k=2, features__pca_components__n_components=8, score=0.7955997161107168, total=   2.1s\n",
      "[CV] classifier__n_estimators=200, features__best_original_feats__k=2, features__pca_components__n_components=8 \n",
      "[CV]  classifier__n_estimators=200, features__best_original_feats__k=2, features__pca_components__n_components=8, score=0.7686302342086586, total=   2.1s\n",
      "[CV] classifier__n_estimators=200, features__best_original_feats__k=2, features__pca_components__n_components=8 \n",
      "[CV]  classifier__n_estimators=200, features__best_original_feats__k=2, features__pca_components__n_components=8, score=0.7899219304471257, total=   2.2s\n",
      "[CV] classifier__n_estimators=200, features__best_original_feats__k=2, features__pca_components__n_components=8 \n",
      "[CV]  classifier__n_estimators=200, features__best_original_feats__k=2, features__pca_components__n_components=8, score=0.7917555081734187, total=   2.1s\n",
      "[CV] classifier__n_estimators=200, features__best_original_feats__k=2, features__pca_components__n_components=10 \n",
      "[CV]  classifier__n_estimators=200, features__best_original_feats__k=2, features__pca_components__n_components=10, score=0.7970191625266146, total=   2.2s\n",
      "[CV] classifier__n_estimators=200, features__best_original_feats__k=2, features__pca_components__n_components=10 \n",
      "[CV]  classifier__n_estimators=200, features__best_original_feats__k=2, features__pca_components__n_components=10, score=0.7899219304471257, total=   2.2s\n",
      "[CV] classifier__n_estimators=200, features__best_original_feats__k=2, features__pca_components__n_components=10 \n",
      "[CV]  classifier__n_estimators=200, features__best_original_feats__k=2, features__pca_components__n_components=10, score=0.7679205110007097, total=   2.1s\n",
      "[CV] classifier__n_estimators=200, features__best_original_feats__k=2, features__pca_components__n_components=10 \n",
      "[CV]  classifier__n_estimators=200, features__best_original_feats__k=2, features__pca_components__n_components=10, score=0.7991483321504613, total=   2.1s\n",
      "[CV] classifier__n_estimators=200, features__best_original_feats__k=2, features__pca_components__n_components=10 \n",
      "[CV]  classifier__n_estimators=200, features__best_original_feats__k=2, features__pca_components__n_components=10, score=0.7974413646055437, total=   2.1s\n",
      "[CV] classifier__n_estimators=200, features__best_original_feats__k=4, features__pca_components__n_components=4 \n",
      "[CV]  classifier__n_estimators=200, features__best_original_feats__k=4, features__pca_components__n_components=4, score=0.7714691270404542, total=   1.3s\n",
      "[CV] classifier__n_estimators=200, features__best_original_feats__k=4, features__pca_components__n_components=4 \n",
      "[CV]  classifier__n_estimators=200, features__best_original_feats__k=4, features__pca_components__n_components=4, score=0.7934705464868701, total=   1.3s\n",
      "[CV] classifier__n_estimators=200, features__best_original_feats__k=4, features__pca_components__n_components=4 \n",
      "[CV]  classifier__n_estimators=200, features__best_original_feats__k=4, features__pca_components__n_components=4, score=0.7721788502484032, total=   1.3s\n",
      "[CV] classifier__n_estimators=200, features__best_original_feats__k=4, features__pca_components__n_components=4 \n",
      "[CV]  classifier__n_estimators=200, features__best_original_feats__k=4, features__pca_components__n_components=4, score=0.7792760823278921, total=   1.3s\n",
      "[CV] classifier__n_estimators=200, features__best_original_feats__k=4, features__pca_components__n_components=4 \n",
      "[CV]  classifier__n_estimators=200, features__best_original_feats__k=4, features__pca_components__n_components=4, score=0.7796730632551528, total=   1.3s\n",
      "[CV] classifier__n_estimators=200, features__best_original_feats__k=4, features__pca_components__n_components=6 \n",
      "[CV]  classifier__n_estimators=200, features__best_original_feats__k=4, features__pca_components__n_components=6, score=0.7998580553584103, total=   1.8s\n",
      "[CV] classifier__n_estimators=200, features__best_original_feats__k=4, features__pca_components__n_components=6 \n",
      "[CV]  classifier__n_estimators=200, features__best_original_feats__k=4, features__pca_components__n_components=6, score=0.794889992902768, total=   1.8s\n",
      "[CV] classifier__n_estimators=200, features__best_original_feats__k=4, features__pca_components__n_components=6 \n",
      "[CV]  classifier__n_estimators=200, features__best_original_feats__k=4, features__pca_components__n_components=6, score=0.7778566359119943, total=   1.8s\n",
      "[CV] classifier__n_estimators=200, features__best_original_feats__k=4, features__pca_components__n_components=6 \n",
      "[CV]  classifier__n_estimators=200, features__best_original_feats__k=4, features__pca_components__n_components=6, score=0.7963094393186657, total=   1.8s\n",
      "[CV] classifier__n_estimators=200, features__best_original_feats__k=4, features__pca_components__n_components=6 \n",
      "[CV]  classifier__n_estimators=200, features__best_original_feats__k=4, features__pca_components__n_components=6, score=0.7917555081734187, total=   1.8s\n",
      "[CV] classifier__n_estimators=200, features__best_original_feats__k=4, features__pca_components__n_components=8 \n",
      "[CV]  classifier__n_estimators=200, features__best_original_feats__k=4, features__pca_components__n_components=8, score=0.7970191625266146, total=   1.9s\n",
      "[CV] classifier__n_estimators=200, features__best_original_feats__k=4, features__pca_components__n_components=8 \n",
      "[CV]  classifier__n_estimators=200, features__best_original_feats__k=4, features__pca_components__n_components=8, score=0.7963094393186657, total=   1.9s\n",
      "[CV] classifier__n_estimators=200, features__best_original_feats__k=4, features__pca_components__n_components=8 \n",
      "[CV]  classifier__n_estimators=200, features__best_original_feats__k=4, features__pca_components__n_components=8, score=0.7707594038325053, total=   1.9s\n",
      "[CV] classifier__n_estimators=200, features__best_original_feats__k=4, features__pca_components__n_components=8 \n",
      "[CV]  classifier__n_estimators=200, features__best_original_feats__k=4, features__pca_components__n_components=8, score=0.801277501774308, total=   1.9s\n",
      "[CV] classifier__n_estimators=200, features__best_original_feats__k=4, features__pca_components__n_components=8 \n",
      "[CV]  classifier__n_estimators=200, features__best_original_feats__k=4, features__pca_components__n_components=8, score=0.7910447761194029, total=   1.9s\n",
      "[CV] classifier__n_estimators=200, features__best_original_feats__k=4, features__pca_components__n_components=10 \n",
      "[CV]  classifier__n_estimators=200, features__best_original_feats__k=4, features__pca_components__n_components=10, score=0.801277501774308, total=   2.0s\n",
      "[CV] classifier__n_estimators=200, features__best_original_feats__k=4, features__pca_components__n_components=10 \n",
      "[CV]  classifier__n_estimators=200, features__best_original_feats__k=4, features__pca_components__n_components=10, score=0.7899219304471257, total=   1.9s\n",
      "[CV] classifier__n_estimators=200, features__best_original_feats__k=4, features__pca_components__n_components=10 \n",
      "[CV]  classifier__n_estimators=200, features__best_original_feats__k=4, features__pca_components__n_components=10, score=0.7721788502484032, total=   1.9s\n",
      "[CV] classifier__n_estimators=200, features__best_original_feats__k=4, features__pca_components__n_components=10 \n",
      "[CV]  classifier__n_estimators=200, features__best_original_feats__k=4, features__pca_components__n_components=10, score=0.8034066713981547, total=   1.9s\n",
      "[CV] classifier__n_estimators=200, features__best_original_feats__k=4, features__pca_components__n_components=10 \n",
      "[CV]  classifier__n_estimators=200, features__best_original_feats__k=4, features__pca_components__n_components=10, score=0.7938877043354655, total=   1.9s\n",
      "[CV] classifier__n_estimators=200, features__best_original_feats__k=6, features__pca_components__n_components=4 \n",
      "[CV]  classifier__n_estimators=200, features__best_original_feats__k=6, features__pca_components__n_components=4, score=0.7799858055358411, total=   1.4s\n",
      "[CV] classifier__n_estimators=200, features__best_original_feats__k=6, features__pca_components__n_components=4 \n",
      "[CV]  classifier__n_estimators=200, features__best_original_feats__k=6, features__pca_components__n_components=4, score=0.7991483321504613, total=   1.5s\n",
      "[CV] classifier__n_estimators=200, features__best_original_feats__k=6, features__pca_components__n_components=4 \n",
      "[CV]  classifier__n_estimators=200, features__best_original_feats__k=6, features__pca_components__n_components=4, score=0.7693399574166075, total=   1.5s\n",
      "[CV] classifier__n_estimators=200, features__best_original_feats__k=6, features__pca_components__n_components=4 \n",
      "[CV]  classifier__n_estimators=200, features__best_original_feats__k=6, features__pca_components__n_components=4, score=0.7849538679914834, total=   1.4s\n",
      "[CV] classifier__n_estimators=200, features__best_original_feats__k=6, features__pca_components__n_components=4 \n",
      "[CV]  classifier__n_estimators=200, features__best_original_feats__k=6, features__pca_components__n_components=4, score=0.7810945273631841, total=   1.5s\n",
      "[CV] classifier__n_estimators=200, features__best_original_feats__k=6, features__pca_components__n_components=6 \n",
      "[CV]  classifier__n_estimators=200, features__best_original_feats__k=6, features__pca_components__n_components=6, score=0.7963094393186657, total=   1.6s\n",
      "[CV] classifier__n_estimators=200, features__best_original_feats__k=6, features__pca_components__n_components=6 \n",
      "[CV]  classifier__n_estimators=200, features__best_original_feats__k=6, features__pca_components__n_components=6, score=0.8026969481902059, total=   1.6s\n",
      "[CV] classifier__n_estimators=200, features__best_original_feats__k=6, features__pca_components__n_components=6 \n",
      "[CV]  classifier__n_estimators=200, features__best_original_feats__k=6, features__pca_components__n_components=6, score=0.7714691270404542, total=   1.6s\n",
      "[CV] classifier__n_estimators=200, features__best_original_feats__k=6, features__pca_components__n_components=6 \n",
      "[CV]  classifier__n_estimators=200, features__best_original_feats__k=6, features__pca_components__n_components=6, score=0.7955997161107168, total=   1.5s\n",
      "[CV] classifier__n_estimators=200, features__best_original_feats__k=6, features__pca_components__n_components=6 \n",
      "[CV]  classifier__n_estimators=200, features__best_original_feats__k=6, features__pca_components__n_components=6, score=0.7945984363894811, total=   1.6s\n",
      "[CV] classifier__n_estimators=200, features__best_original_feats__k=6, features__pca_components__n_components=8 \n",
      "[CV]  classifier__n_estimators=200, features__best_original_feats__k=6, features__pca_components__n_components=8, score=0.7913413768630234, total=   1.7s\n",
      "[CV] classifier__n_estimators=200, features__best_original_feats__k=6, features__pca_components__n_components=8 \n",
      "[CV]  classifier__n_estimators=200, features__best_original_feats__k=6, features__pca_components__n_components=8, score=0.7998580553584103, total=   1.7s\n",
      "[CV] classifier__n_estimators=200, features__best_original_feats__k=6, features__pca_components__n_components=8 \n",
      "[CV]  classifier__n_estimators=200, features__best_original_feats__k=6, features__pca_components__n_components=8, score=0.7700496806245565, total=   1.7s\n",
      "[CV] classifier__n_estimators=200, features__best_original_feats__k=6, features__pca_components__n_components=8 \n",
      "[CV]  classifier__n_estimators=200, features__best_original_feats__k=6, features__pca_components__n_components=8, score=0.7998580553584103, total=   1.7s\n",
      "[CV] classifier__n_estimators=200, features__best_original_feats__k=6, features__pca_components__n_components=8 \n",
      "[CV]  classifier__n_estimators=200, features__best_original_feats__k=6, features__pca_components__n_components=8, score=0.798862828713575, total=   1.7s\n",
      "[CV] classifier__n_estimators=200, features__best_original_feats__k=6, features__pca_components__n_components=10 \n",
      "[CV]  classifier__n_estimators=200, features__best_original_feats__k=6, features__pca_components__n_components=10, score=0.7970191625266146, total=   2.2s\n",
      "[CV] classifier__n_estimators=200, features__best_original_feats__k=6, features__pca_components__n_components=10 \n",
      "[CV]  classifier__n_estimators=200, features__best_original_feats__k=6, features__pca_components__n_components=10, score=0.7899219304471257, total=   2.2s\n",
      "[CV] classifier__n_estimators=200, features__best_original_feats__k=6, features__pca_components__n_components=10 \n",
      "[CV]  classifier__n_estimators=200, features__best_original_feats__k=6, features__pca_components__n_components=10, score=0.7650816181689141, total=   2.2s\n",
      "[CV] classifier__n_estimators=200, features__best_original_feats__k=6, features__pca_components__n_components=10 \n",
      "[CV]  classifier__n_estimators=200, features__best_original_feats__k=6, features__pca_components__n_components=10, score=0.8062455642299503, total=   2.1s\n",
      "[CV] classifier__n_estimators=200, features__best_original_feats__k=6, features__pca_components__n_components=10 \n",
      "[CV]  classifier__n_estimators=200, features__best_original_feats__k=6, features__pca_components__n_components=10, score=0.7924662402274343, total=   2.2s\n",
      "[CV] classifier__n_estimators=200, features__best_original_feats__k=8, features__pca_components__n_components=4 \n",
      "[CV]  classifier__n_estimators=200, features__best_original_feats__k=8, features__pca_components__n_components=4, score=0.7849538679914834, total=   1.3s\n",
      "[CV] classifier__n_estimators=200, features__best_original_feats__k=8, features__pca_components__n_components=4 \n",
      "[CV]  classifier__n_estimators=200, features__best_original_feats__k=8, features__pca_components__n_components=4, score=0.7984386089425124, total=   1.4s\n",
      "[CV] classifier__n_estimators=200, features__best_original_feats__k=8, features__pca_components__n_components=4 \n",
      "[CV]  classifier__n_estimators=200, features__best_original_feats__k=8, features__pca_components__n_components=4, score=0.7679205110007097, total=   1.3s\n",
      "[CV] classifier__n_estimators=200, features__best_original_feats__k=8, features__pca_components__n_components=4 \n",
      "[CV]  classifier__n_estimators=200, features__best_original_feats__k=8, features__pca_components__n_components=4, score=0.7892122072391767, total=   1.3s\n",
      "[CV] classifier__n_estimators=200, features__best_original_feats__k=8, features__pca_components__n_components=4 \n",
      "[CV]  classifier__n_estimators=200, features__best_original_feats__k=8, features__pca_components__n_components=4, score=0.7874911158493249, total=   1.3s\n",
      "[CV] classifier__n_estimators=200, features__best_original_feats__k=8, features__pca_components__n_components=6 \n",
      "[CV]  classifier__n_estimators=200, features__best_original_feats__k=8, features__pca_components__n_components=6, score=0.7920511000709723, total=   1.4s\n",
      "[CV] classifier__n_estimators=200, features__best_original_feats__k=8, features__pca_components__n_components=6 \n",
      "[CV]  classifier__n_estimators=200, features__best_original_feats__k=8, features__pca_components__n_components=6, score=0.7984386089425124, total=   1.4s\n",
      "[CV] classifier__n_estimators=200, features__best_original_feats__k=8, features__pca_components__n_components=6 \n",
      "[CV]  classifier__n_estimators=200, features__best_original_feats__k=8, features__pca_components__n_components=6, score=0.7721788502484032, total=   1.4s\n",
      "[CV] classifier__n_estimators=200, features__best_original_feats__k=8, features__pca_components__n_components=6 \n",
      "[CV]  classifier__n_estimators=200, features__best_original_feats__k=8, features__pca_components__n_components=6, score=0.7955997161107168, total=   1.4s\n",
      "[CV] classifier__n_estimators=200, features__best_original_feats__k=8, features__pca_components__n_components=6 \n",
      "[CV]  classifier__n_estimators=200, features__best_original_feats__k=8, features__pca_components__n_components=6, score=0.7967306325515281, total=   1.4s\n",
      "[CV] classifier__n_estimators=200, features__best_original_feats__k=8, features__pca_components__n_components=8 \n",
      "[CV]  classifier__n_estimators=200, features__best_original_feats__k=8, features__pca_components__n_components=8, score=0.8026969481902059, total=   1.9s\n",
      "[CV] classifier__n_estimators=200, features__best_original_feats__k=8, features__pca_components__n_components=8 \n",
      "[CV]  classifier__n_estimators=200, features__best_original_feats__k=8, features__pca_components__n_components=8, score=0.7991483321504613, total=   1.9s\n",
      "[CV] classifier__n_estimators=200, features__best_original_feats__k=8, features__pca_components__n_components=8 \n",
      "[CV]  classifier__n_estimators=200, features__best_original_feats__k=8, features__pca_components__n_components=8, score=0.7679205110007097, total=   1.9s\n",
      "[CV] classifier__n_estimators=200, features__best_original_feats__k=8, features__pca_components__n_components=8 \n",
      "[CV]  classifier__n_estimators=200, features__best_original_feats__k=8, features__pca_components__n_components=8, score=0.7977288857345636, total=   1.9s\n",
      "[CV] classifier__n_estimators=200, features__best_original_feats__k=8, features__pca_components__n_components=8 \n",
      "[CV]  classifier__n_estimators=200, features__best_original_feats__k=8, features__pca_components__n_components=8, score=0.7938877043354655, total=   1.9s\n",
      "[CV] classifier__n_estimators=200, features__best_original_feats__k=8, features__pca_components__n_components=10 \n",
      "[CV]  classifier__n_estimators=200, features__best_original_feats__k=8, features__pca_components__n_components=10, score=0.8019872249822569, total=   2.0s\n",
      "[CV] classifier__n_estimators=200, features__best_original_feats__k=8, features__pca_components__n_components=10 \n",
      "[CV]  classifier__n_estimators=200, features__best_original_feats__k=8, features__pca_components__n_components=10, score=0.7963094393186657, total=   2.0s\n",
      "[CV] classifier__n_estimators=200, features__best_original_feats__k=8, features__pca_components__n_components=10 \n",
      "[CV]  classifier__n_estimators=200, features__best_original_feats__k=8, features__pca_components__n_components=10, score=0.7735982966643009, total=   2.0s\n",
      "[CV] classifier__n_estimators=200, features__best_original_feats__k=8, features__pca_components__n_components=10 \n",
      "[CV]  classifier__n_estimators=200, features__best_original_feats__k=8, features__pca_components__n_components=10, score=0.8034066713981547, total=   2.0s\n",
      "[CV] classifier__n_estimators=200, features__best_original_feats__k=8, features__pca_components__n_components=10 \n",
      "[CV]  classifier__n_estimators=200, features__best_original_feats__k=8, features__pca_components__n_components=10, score=0.7931769722814499, total=   2.0s\n"
     ]
    },
    {
     "name": "stderr",
     "output_type": "stream",
     "text": [
      "[Parallel(n_jobs=1)]: Done 160 out of 160 | elapsed:  3.8min finished\n"
     ]
    },
    {
     "name": "stdout",
     "output_type": "stream",
     "text": [
      "Pipeline(memory=None,\n",
      "     steps=[('features', FeatureUnion(n_jobs=None,\n",
      "       transformer_list=[('pca_components', PCA(copy=True, iterated_power='auto', n_components=10, random_state=None,\n",
      "  svd_solver='auto', tol=0.0, whiten=False)), ('best_original_feats', SelectKBest(k=8, score_func=<function chi2 at 0x128e94510>))],\n",
      "   ...obs=None,\n",
      "            oob_score=False, random_state=None, verbose=0,\n",
      "            warm_start=False))])\n"
     ]
    }
   ],
   "source": [
    "# fit now\n",
    "grid_search.fit(X, y)\n",
    "print(grid_search.best_estimator_)"
   ]
  },
  {
   "cell_type": "code",
   "execution_count": 224,
   "metadata": {},
   "outputs": [],
   "source": [
    "X_train, X_test, y_train, y_test = train_test_split(X, y, test_size=0.3, random_state=4232)"
   ]
  },
  {
   "cell_type": "code",
   "execution_count": 226,
   "metadata": {},
   "outputs": [],
   "source": [
    "y_pred = grid_search.predict(X_test)"
   ]
  },
  {
   "cell_type": "code",
   "execution_count": 228,
   "metadata": {},
   "outputs": [
    {
     "data": {
      "text/plain": [
       "0.9947941315664931"
      ]
     },
     "execution_count": 228,
     "metadata": {},
     "output_type": "execute_result"
    }
   ],
   "source": [
    "accuracy_score(y_test, y_pred)"
   ]
  },
  {
   "cell_type": "code",
   "execution_count": 229,
   "metadata": {},
   "outputs": [
    {
     "name": "stdout",
     "output_type": "stream",
     "text": [
      "[0]\teval-auc:0.793749\ttrain-auc:0.78886\n",
      "Multiple eval metrics have been passed: 'train-auc' will be used for early stopping.\n",
      "\n",
      "Will train until train-auc hasn't improved in 3 rounds.\n",
      "[1]\teval-auc:0.828415\ttrain-auc:0.825413\n",
      "[2]\teval-auc:0.834881\ttrain-auc:0.833907\n",
      "[3]\teval-auc:0.83703\ttrain-auc:0.840716\n",
      "[4]\teval-auc:0.841446\ttrain-auc:0.845377\n",
      "[5]\teval-auc:0.842991\ttrain-auc:0.850008\n",
      "[6]\teval-auc:0.840912\ttrain-auc:0.851972\n",
      "[7]\teval-auc:0.839741\ttrain-auc:0.853403\n",
      "[8]\teval-auc:0.840938\ttrain-auc:0.85542\n",
      "[9]\teval-auc:0.84117\ttrain-auc:0.857284\n",
      "[10]\teval-auc:0.841492\ttrain-auc:0.85833\n",
      "[11]\teval-auc:0.843172\ttrain-auc:0.859596\n",
      "[12]\teval-auc:0.843012\ttrain-auc:0.860528\n",
      "[13]\teval-auc:0.840828\ttrain-auc:0.8619\n",
      "[14]\teval-auc:0.840358\ttrain-auc:0.862554\n",
      "[15]\teval-auc:0.840057\ttrain-auc:0.863628\n"
     ]
    }
   ],
   "source": [
    "# set up a warning filter to suppress annoying future warnings\n",
    "with warnings.catch_warnings():\n",
    "    \n",
    "    warnings.filterwarnings('ignore',category=FutureWarning)\n",
    "\n",
    "    dtrain = xgb.DMatrix(X_train, label=y_train)\n",
    "    dtest = xgb.DMatrix(X_test, label=y_test)\n",
    "    \n",
    "    param = {'max_depth': 2, 'eta': 1, 'silent': 1, 'objective': 'binary:logistic'}\n",
    "    param['nthread'] = 4\n",
    "    param['eval_metric'] = 'auc'\n",
    "    \n",
    "    evallist = [(dtest, 'eval'), (dtrain, 'train')]\n",
    "    \n",
    "    num_round = 16\n",
    "    bst = xgb.train(param, dtrain, num_round, evallist, early_stopping_rounds=3)\n",
    "    \n",
    "    bst.dump_model(fout='dump.raw.json', dump_format='json')"
   ]
  },
  {
   "cell_type": "code",
   "execution_count": 230,
   "metadata": {},
   "outputs": [
    {
     "data": {
      "text/plain": [
       "<matplotlib.axes._subplots.AxesSubplot at 0x128ea6898>"
      ]
     },
     "execution_count": 230,
     "metadata": {},
     "output_type": "execute_result"
    },
    {
     "data": {
      "image/png": "[encoded data removed]",
      "text/plain": [
       "<Figure size 432x288 with 1 Axes>"
      ]
     },
     "metadata": {},
     "output_type": "display_data"
    }
   ],
   "source": [
    "xgb.plot_importance(bst)"
   ]
  },
  {
   "cell_type": "code",
   "execution_count": null,
   "metadata": {},
   "outputs": [],
   "source": []
  }
 ],
 "metadata": {
  "kernelspec": {
   "display_name": "Python 3",
   "language": "python",
   "name": "python3"
  },
  "language_info": {
   "codemirror_mode": {
    "name": "ipython",
    "version": 3
   },
   "file_extension": ".py",
   "mimetype": "text/x-python",
   "name": "python",
   "nbconvert_exporter": "python",
   "pygments_lexer": "ipython3",
   "version": "3.7.3"
  }
 },
 "nbformat": 4,
 "nbformat_minor": 2
}
